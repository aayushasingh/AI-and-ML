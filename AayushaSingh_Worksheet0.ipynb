{
  "nbformat": 4,
  "nbformat_minor": 0,
  "metadata": {
    "colab": {
      "provenance": []
    },
    "kernelspec": {
      "name": "python3",
      "display_name": "Python 3"
    },
    "language_info": {
      "name": "python"
    }
  },
  "cells": [
    {
      "cell_type": "markdown",
      "source": [
        "4. TO - DO - Task\n",
        "\n",
        "4.1 Exercise on Functions:"
      ],
      "metadata": {
        "id": "lyBPWz1u-IwR"
      }
    },
    {
      "cell_type": "code",
      "execution_count": null,
      "metadata": {
        "colab": {
          "base_uri": "https://localhost:8080/"
        },
        "id": "qQzKXI_H9_Ho",
        "outputId": "e7cf322b-44e9-4ee0-cd25-11f31c52476c"
      },
      "outputs": [
        {
          "output_type": "stream",
          "name": "stdout",
          "text": [
            "Unit Converter\n",
            "1. Length (meters <-> feet)\n",
            "2. Weight (kilograms <-> pounds)\n",
            "3. Volume (liters <-> gallons)\n",
            "Choose conversion type (1/2/3): 2\n",
            "Enter value to convert: 100\n",
            "Enter unit (kg for kilograms, lbs for pounds): kg\n",
            "Converted value: 220.462\n"
          ]
        }
      ],
      "source": [
        "#Task1\n",
        "\n",
        "def convert_length(value, unit):\n",
        "    \"\"\"\n",
        "    Converts length between meters and feet.\n",
        "    :param value: Numeric value to convert\n",
        "    :param unit: 'm' to convert to feet, 'ft' to convert to meters\n",
        "    :return: Converted value\n",
        "    \"\"\"\n",
        "    if unit == 'm':\n",
        "        return value * 3.28084  # meters to feet\n",
        "    elif unit == 'ft':\n",
        "        return value / 3.28084  # feet to meters\n",
        "    else:\n",
        "        raise ValueError(\"Invalid length unit\")\n",
        "\n",
        "def convert_weight(value, unit):\n",
        "    \"\"\"\n",
        "    Converts weight between kilograms and pounds.\n",
        "    :param value: Numeric value to convert\n",
        "    :param unit: 'kg' to convert to pounds, 'lbs' to convert to kilograms\n",
        "    :return: Converted value\n",
        "    \"\"\"\n",
        "    if unit == 'kg':\n",
        "        return value * 2.20462  # kg to lbs\n",
        "    elif unit == 'lbs':\n",
        "        return value / 2.20462  # lbs to kg\n",
        "    else:\n",
        "        raise ValueError(\"Invalid weight unit\")\n",
        "\n",
        "def convert_volume(value, unit):\n",
        "    \"\"\"\n",
        "    Converts volume between liters and gallons.\n",
        "    :param value: Numeric value to convert\n",
        "    :param unit: 'L' to convert to gallons, 'gal' to convert to liters\n",
        "    :return: Converted value\n",
        "    \"\"\"\n",
        "    if unit == 'L':\n",
        "        return value * 0.264172  # liters to gallons\n",
        "    elif unit == 'gal':\n",
        "        return value / 0.264172  # gallons to liters\n",
        "    else:\n",
        "        raise ValueError(\"Invalid volume unit\")\n",
        "\n",
        "def main():\n",
        "    print(\"Unit Converter\")\n",
        "    print(\"1. Length (meters <-> feet)\")\n",
        "    print(\"2. Weight (kilograms <-> pounds)\")\n",
        "    print(\"3. Volume (liters <-> gallons)\")\n",
        "\n",
        "    try:\n",
        "        choice = int(input(\"Choose conversion type (1/2/3): \"))\n",
        "        value = float(input(\"Enter value to convert: \"))\n",
        "\n",
        "        if choice == 1:\n",
        "            unit = input(\"Enter unit (m for meters, ft for feet): \").strip().lower()\n",
        "            result = convert_length(value, unit)\n",
        "            print(f\"Converted value: {result}\")\n",
        "        elif choice == 2:\n",
        "            unit = input(\"Enter unit (kg for kilograms, lbs for pounds): \").strip().lower()\n",
        "            result = convert_weight(value, unit)\n",
        "            print(f\"Converted value: {result}\")\n",
        "        elif choice == 3:\n",
        "            unit = input(\"Enter unit (L for liters, gal for gallons): \").strip().lower()\n",
        "            result = convert_volume(value, unit)\n",
        "            print(f\"Converted value: {result}\")\n",
        "        else:\n",
        "            print(\"Invalid choice. Please select 1, 2, or 3.\")\n",
        "    except ValueError as e:\n",
        "        print(f\"Error: {e}. Please enter valid input.\")\n",
        "    except Exception as e:\n",
        "        print(f\"Unexpected error: {e}\")\n",
        "\n",
        "if __name__ == \"__main__\":\n",
        "    main()"
      ]
    },
    {
      "cell_type": "code",
      "source": [
        "#Task2\n",
        "\n",
        "def calculate_sum(numbers):\n",
        "    \"\"\"\n",
        "    Calculates the sum of a list of numbers.\n",
        "    :param numbers: List of numeric values\n",
        "    :return: Sum of the numbers\n",
        "    \"\"\"\n",
        "    return sum(numbers)\n",
        "\n",
        "def calculate_average(numbers):\n",
        "    \"\"\"\n",
        "    Calculates the average of a list of numbers.\n",
        "    :param numbers: List of numeric values\n",
        "    :return: Average of the numbers\n",
        "    \"\"\"\n",
        "    return sum(numbers) / len(numbers) if numbers else 0\n",
        "\n",
        "def find_maximum(numbers):\n",
        "    \"\"\"\n",
        "    Finds the maximum number in a list.\n",
        "    :param numbers: List of numeric values\n",
        "    :return: Maximum value in the list\n",
        "    \"\"\"\n",
        "    return max(numbers)\n",
        "\n",
        "def find_minimum(numbers):\n",
        "    \"\"\"\n",
        "    Finds the minimum number in a list.\n",
        "    :param numbers: List of numeric values\n",
        "    :return: Minimum value in the list\n",
        "    \"\"\"\n",
        "    return min(numbers)\n",
        "\n",
        "def main():\n",
        "    print(\"Mathematical Operations on a List\")\n",
        "    print(\"1. Sum\")\n",
        "    print(\"2. Average\")\n",
        "    print(\"3. Maximum\")\n",
        "    print(\"4. Minimum\")\n",
        "\n",
        "    try:\n",
        "        choice = int(input(\"Choose an operation (1/2/3/4): \"))\n",
        "        numbers = list(map(float, input(\"Enter numbers separated by spaces: \").split()))\n",
        "\n",
        "        if not numbers:\n",
        "            raise ValueError(\"The list cannot be empty.\")\n",
        "\n",
        "        if choice == 1:\n",
        "            result = calculate_sum(numbers)\n",
        "        elif choice == 2:\n",
        "            result = calculate_average(numbers)\n",
        "        elif choice == 3:\n",
        "            result = find_maximum(numbers)\n",
        "        elif choice == 4:\n",
        "            result = find_minimum(numbers)\n",
        "        else:\n",
        "            print(\"Invalid choice. Please select 1, 2, 3, or 4.\")\n",
        "            return\n",
        "\n",
        "        print(f\"Result: {result}\")\n",
        "    except ValueError as e:\n",
        "        print(f\"Error: {e}. Please enter valid input.\")\n",
        "    except Exception as e:\n",
        "        print(f\"Unexpected error: {e}\")\n",
        "\n",
        "if __name__ == \"__main__\":\n",
        "    main()"
      ],
      "metadata": {
        "colab": {
          "base_uri": "https://localhost:8080/"
        },
        "id": "MvwwQoSD_K7W",
        "outputId": "7e007e6d-8128-4da1-ec2e-27b8cc4b2fdc"
      },
      "execution_count": null,
      "outputs": [
        {
          "output_type": "stream",
          "name": "stdout",
          "text": [
            "Mathematical Operations on a List\n",
            "1. Sum\n",
            "2. Average\n",
            "3. Maximum\n",
            "4. Minimum\n",
            "Choose an operation (1/2/3/4): 1\n",
            "Enter numbers separated by spaces: 2 3\n",
            "Result: 5.0\n"
          ]
        }
      ]
    },
    {
      "cell_type": "markdown",
      "source": [
        "4.2 Exercise on List Manipulation:\n",
        "1. Extract Every Other Element:"
      ],
      "metadata": {
        "id": "e0Pgx3jkFrHF"
      }
    },
    {
      "cell_type": "code",
      "source": [
        "def extract_every_other(lst):\n",
        "    return lst[::2]\n",
        "\n",
        "# Example usage\n",
        "print(extract_every_other([1, 2, 3, 4, 5, 6]))\n"
      ],
      "metadata": {
        "id": "VNeKS1eW_1dR",
        "colab": {
          "base_uri": "https://localhost:8080/"
        },
        "outputId": "57dd92a9-ffcc-4a47-a5bc-b24cdcac6fc5"
      },
      "execution_count": null,
      "outputs": [
        {
          "output_type": "stream",
          "name": "stdout",
          "text": [
            "[1, 3, 5]\n"
          ]
        }
      ]
    },
    {
      "cell_type": "markdown",
      "source": [
        "2. Slice a Sublist:"
      ],
      "metadata": {
        "id": "IpllDugBHoWc"
      }
    },
    {
      "cell_type": "code",
      "source": [
        "def get_sublist(lst, start, end):\n",
        "    return lst[start:end+1]\n",
        "\n",
        "# Example usage\n",
        "print(get_sublist([1, 2, 3, 4, 5, 6], 2, 4))\n"
      ],
      "metadata": {
        "colab": {
          "base_uri": "https://localhost:8080/"
        },
        "id": "YCjjSNbmHprz",
        "outputId": "6bac0190-3af1-40e0-b166-063b894570b2"
      },
      "execution_count": null,
      "outputs": [
        {
          "output_type": "stream",
          "name": "stdout",
          "text": [
            "[3, 4, 5]\n"
          ]
        }
      ]
    },
    {
      "cell_type": "markdown",
      "source": [
        "3. Reverse a List Using Slicing:"
      ],
      "metadata": {
        "id": "KkiiRfy_H2yL"
      }
    },
    {
      "cell_type": "code",
      "source": [
        "def reverse_list(lst):\n",
        "    return lst[::-1]\n",
        "\n",
        "# Example usage\n",
        "print(reverse_list([1, 2, 3, 4, 5]))\n"
      ],
      "metadata": {
        "colab": {
          "base_uri": "https://localhost:8080/"
        },
        "id": "BBkSuvWXIKCz",
        "outputId": "4ceb00fa-8b03-4a96-cf47-ed88aef9be96"
      },
      "execution_count": null,
      "outputs": [
        {
          "output_type": "stream",
          "name": "stdout",
          "text": [
            "[5, 4, 3, 2, 1]\n"
          ]
        }
      ]
    },
    {
      "cell_type": "markdown",
      "source": [
        "4. Remove the First and Last Elements:"
      ],
      "metadata": {
        "id": "sqiyxPcFIe-0"
      }
    },
    {
      "cell_type": "code",
      "source": [
        "def remove_first_last(lst):\n",
        "    return lst[1:-1]\n",
        "\n",
        "# Example usage\n",
        "print(remove_first_last([1, 2, 3, 4, 5]))"
      ],
      "metadata": {
        "colab": {
          "base_uri": "https://localhost:8080/"
        },
        "id": "kODLjL7OJE0H",
        "outputId": "752cc55a-1bfb-4d67-aa80-6c310dc3bcd3"
      },
      "execution_count": null,
      "outputs": [
        {
          "output_type": "stream",
          "name": "stdout",
          "text": [
            "[2, 3, 4]\n"
          ]
        }
      ]
    },
    {
      "cell_type": "markdown",
      "source": [
        "5. Get the First n Elements:"
      ],
      "metadata": {
        "id": "vyRtcl2cJTIL"
      }
    },
    {
      "cell_type": "code",
      "source": [
        "def get_first_n(lst, n):\n",
        "    return lst[:n]\n",
        "\n",
        "# Example usage\n",
        "print(get_first_n([1, 2, 3, 4, 5], 3))"
      ],
      "metadata": {
        "colab": {
          "base_uri": "https://localhost:8080/"
        },
        "id": "xz3tMPw-JURw",
        "outputId": "d4672a64-d218-4f30-c652-2287fe324842"
      },
      "execution_count": null,
      "outputs": [
        {
          "output_type": "stream",
          "name": "stdout",
          "text": [
            "[1, 2, 3]\n"
          ]
        }
      ]
    },
    {
      "cell_type": "markdown",
      "source": [
        "6. Extract Elements from the End:"
      ],
      "metadata": {
        "id": "57EkmZjvJhsI"
      }
    },
    {
      "cell_type": "code",
      "source": [
        "def get_last_n(lst, n):\n",
        "    return lst[-n:]\n",
        "\n",
        "# Example usage\n",
        "print(get_last_n([1, 2, 3, 4, 5], 2))\n"
      ],
      "metadata": {
        "colab": {
          "base_uri": "https://localhost:8080/"
        },
        "id": "sZfy4fDXJvdM",
        "outputId": "2a4cf616-4aee-4ff4-8456-4c4783b6f03c"
      },
      "execution_count": null,
      "outputs": [
        {
          "output_type": "stream",
          "name": "stdout",
          "text": [
            "[4, 5]\n"
          ]
        }
      ]
    },
    {
      "cell_type": "markdown",
      "source": [
        "7. Extract Elements in Reverse Order:"
      ],
      "metadata": {
        "id": "wQmohlM1J1D8"
      }
    },
    {
      "cell_type": "code",
      "source": [
        "def reverse_skip(lst):\n",
        "    return lst[-2::-2]\n",
        "\n",
        "# Example usage\n",
        "print(reverse_skip([1, 2, 3, 4, 5, 6]))\n"
      ],
      "metadata": {
        "colab": {
          "base_uri": "https://localhost:8080/"
        },
        "id": "q29zA8zmKA60",
        "outputId": "1d38efb2-04a7-4143-a512-b95b46ea2077"
      },
      "execution_count": null,
      "outputs": [
        {
          "output_type": "stream",
          "name": "stdout",
          "text": [
            "[5, 3, 1]\n"
          ]
        }
      ]
    },
    {
      "cell_type": "markdown",
      "source": [
        "4.3 Exercise on Nested List:\n",
        "1. Flatten a Nested List:"
      ],
      "metadata": {
        "id": "Tx03N4n3KObW"
      }
    },
    {
      "cell_type": "code",
      "source": [
        "def flatten(lst):\n",
        "    return [item for sublist in lst for item in sublist]\n",
        "\n",
        "# Example usage\n",
        "print(flatten([[1, 2], [3, 4], [5]]))\n"
      ],
      "metadata": {
        "colab": {
          "base_uri": "https://localhost:8080/"
        },
        "id": "P9h9FFCyKiE1",
        "outputId": "33493545-c58f-4482-801f-d4b812db2dfb"
      },
      "execution_count": null,
      "outputs": [
        {
          "output_type": "stream",
          "name": "stdout",
          "text": [
            "[1, 2, 3, 4, 5]\n"
          ]
        }
      ]
    },
    {
      "cell_type": "markdown",
      "source": [
        "2. Accessing Nested List Elements:"
      ],
      "metadata": {
        "id": "AI_QAHe2Klsz"
      }
    },
    {
      "cell_type": "code",
      "source": [
        "def access_nested_element(lst, indices):\n",
        "    element = lst\n",
        "    for index in indices:\n",
        "        element = element[index]\n",
        "    return element\n",
        "\n",
        "# Example usage\n",
        "nested_list = [[1, 2, 3], [4, 5, 6], [7, 8, 9]]\n",
        "indices = [1, 2]\n",
        "print(access_nested_element(nested_list, indices))\n"
      ],
      "metadata": {
        "colab": {
          "base_uri": "https://localhost:8080/"
        },
        "id": "bUQzNQmJKqh7",
        "outputId": "1547e25a-326a-4930-d2c9-5ac4cf16495b"
      },
      "execution_count": null,
      "outputs": [
        {
          "output_type": "stream",
          "name": "stdout",
          "text": [
            "6\n"
          ]
        }
      ]
    },
    {
      "cell_type": "markdown",
      "source": [
        "3. Sum of All Elements in a Nested List:"
      ],
      "metadata": {
        "id": "hg9dN_jwK4-A"
      }
    },
    {
      "cell_type": "code",
      "source": [
        "def sum_nested(lst):\n",
        "    total = 0\n",
        "    for item in lst:\n",
        "        if isinstance(item, list):\n",
        "            total += sum_nested(item)  # Recursively sum nested lists\n",
        "        else:\n",
        "            total += item  # Add number to total\n",
        "    return total\n",
        "\n",
        "# Example usage\n",
        "print(sum_nested([[1, 2], [3, [4, 5]], 6]))\n"
      ],
      "metadata": {
        "colab": {
          "base_uri": "https://localhost:8080/"
        },
        "id": "H_pTLCjzK9kL",
        "outputId": "51335cf7-48bd-4894-f130-e38fddc13b50"
      },
      "execution_count": null,
      "outputs": [
        {
          "output_type": "stream",
          "name": "stdout",
          "text": [
            "21\n"
          ]
        }
      ]
    },
    {
      "cell_type": "markdown",
      "source": [
        "4. Remove Specific Element from a Nested List:"
      ],
      "metadata": {
        "id": "KiyVVzGKLLDK"
      }
    },
    {
      "cell_type": "code",
      "source": [
        "def remove_element(lst, elem):\n",
        "    for i in range(len(lst)):\n",
        "        if isinstance(lst[i], list):  # If the element is a sublist\n",
        "            lst[i] = remove_element(lst[i], elem)  # Recursively remove elem from sublist\n",
        "        else:\n",
        "            while lst[i] == elem:  # Check if the current element matches elem\n",
        "                lst.pop(i)  # Remove the element\n",
        "                break  # Exit loop after removal\n",
        "    return lst\n",
        "\n",
        "# Example usage\n",
        "lst = [[1, 2], [3, 2], [4, 5]]\n",
        "elem = 2\n",
        "print(remove_element(lst, elem))"
      ],
      "metadata": {
        "colab": {
          "base_uri": "https://localhost:8080/"
        },
        "id": "DBbd_czDLOkJ",
        "outputId": "3e8faaf2-5959-4d73-bed9-ce8dca76dbed"
      },
      "execution_count": null,
      "outputs": [
        {
          "output_type": "stream",
          "name": "stdout",
          "text": [
            "[[1], [3], [4, 5]]\n"
          ]
        }
      ]
    },
    {
      "cell_type": "markdown",
      "source": [
        "5. Find the Maximum Element in a Nested List:"
      ],
      "metadata": {
        "id": "-7HZn5GSLoNI"
      }
    },
    {
      "cell_type": "code",
      "source": [
        "def find_max(lst):\n",
        "    max_element = float('-inf')  # Initialize to negative infinity\n",
        "    for item in lst:\n",
        "        if isinstance(item, list):  # If item is a sublist, recurse\n",
        "            max_element = max(max_element, find_max(item))\n",
        "        else:  # Otherwise, compare the item with the current max\n",
        "            max_element = max(max_element, item)\n",
        "    return max_element\n",
        "\n",
        "# Example usage\n",
        "print(find_max([[1, 2], [3, [4, 5]], 6]))\n"
      ],
      "metadata": {
        "colab": {
          "base_uri": "https://localhost:8080/"
        },
        "id": "lilAwEkqLsQk",
        "outputId": "0a25b466-3199-4ca1-9e34-cc05d3452bbb"
      },
      "execution_count": null,
      "outputs": [
        {
          "output_type": "stream",
          "name": "stdout",
          "text": [
            "6\n"
          ]
        }
      ]
    },
    {
      "cell_type": "markdown",
      "source": [
        "6. Count Occurrences of an Element in a Nested List:"
      ],
      "metadata": {
        "id": "QewMs0GCL557"
      }
    },
    {
      "cell_type": "code",
      "source": [
        "def count_occurrences(lst, elem):\n",
        "    count = 0\n",
        "    for item in lst:\n",
        "        if isinstance(item, list):  # If the item is a sublist, recurse\n",
        "            count += count_occurrences(item, elem)\n",
        "        else:  # Otherwise, check if it's equal to the element\n",
        "            if item == elem:\n",
        "                count += 1\n",
        "    return count\n",
        "\n",
        "# Example usage\n",
        "lst = [[1, 2], [2, 3], [2, 4]]\n",
        "elem = 2\n",
        "print(count_occurrences(lst, elem))"
      ],
      "metadata": {
        "colab": {
          "base_uri": "https://localhost:8080/"
        },
        "id": "lwgAxGWpL9aZ",
        "outputId": "faf690d0-8257-440d-a0d7-3454270cf12c"
      },
      "execution_count": null,
      "outputs": [
        {
          "output_type": "stream",
          "name": "stdout",
          "text": [
            "3\n"
          ]
        }
      ]
    },
    {
      "cell_type": "markdown",
      "source": [
        "7. Flatten a List of Lists of Lists:"
      ],
      "metadata": {
        "id": "qnvnLoboMG7b"
      }
    },
    {
      "cell_type": "code",
      "source": [
        "def deep_flatten(lst):\n",
        "    result = []\n",
        "    for item in lst:\n",
        "        if isinstance(item, list):  # If the item is a list, recurse\n",
        "            result.extend(deep_flatten(item))\n",
        "        else:  # Otherwise, add the item to the result list\n",
        "            result.append(item)\n",
        "    return result\n",
        "\n",
        "# Example usage\n",
        "nested_list = [[[1, 2], [3, 4]], [[5, 6], [7, 8]]]\n",
        "print(deep_flatten(nested_list))\n"
      ],
      "metadata": {
        "colab": {
          "base_uri": "https://localhost:8080/"
        },
        "id": "P5jnTOHPMLNY",
        "outputId": "2bb252d8-f497-4ff7-aa7b-32e1a6a2a1fa"
      },
      "execution_count": null,
      "outputs": [
        {
          "output_type": "stream",
          "name": "stdout",
          "text": [
            "[1, 2, 3, 4, 5, 6, 7, 8]\n"
          ]
        }
      ]
    },
    {
      "cell_type": "markdown",
      "source": [
        "8. Nested List Average:"
      ],
      "metadata": {
        "id": "kHvHQPr1MYAK"
      }
    },
    {
      "cell_type": "code",
      "source": [
        "def average_nested(lst):\n",
        "    total = 0\n",
        "    count = 0\n",
        "\n",
        "    # Function to recursively calculate the sum and count of elements\n",
        "    def recursive_sum(lst):\n",
        "        nonlocal total, count\n",
        "        for item in lst:\n",
        "            if isinstance(item, list):\n",
        "                recursive_sum(item)  # Recurse if the item is a list\n",
        "            else:\n",
        "                total += item  # Add item to total\n",
        "                count += 1  # Increment count\n",
        "\n",
        "    recursive_sum(lst)\n",
        "    return total / count if count != 0 else 0  # Avoid division by zero\n",
        "\n",
        "# Example usage\n",
        "nested_list = [[1, 2], [3, 4], [5, 6]]\n",
        "print(average_nested(nested_list))\n"
      ],
      "metadata": {
        "colab": {
          "base_uri": "https://localhost:8080/"
        },
        "id": "cWsF2nVFMcoj",
        "outputId": "371c3959-556b-42ba-82de-a995cabdad5c"
      },
      "execution_count": null,
      "outputs": [
        {
          "output_type": "stream",
          "name": "stdout",
          "text": [
            "3.5\n"
          ]
        }
      ]
    },
    {
      "cell_type": "markdown",
      "source": [
        "10 To - Do - NumPy\n",
        "\n",
        "10.1 Basic Vector and Matrix Operation with Numpy.\n",
        "\n",
        "Problem - 1: Array Creation:"
      ],
      "metadata": {
        "id": "vmcmK36TMrrf"
      }
    },
    {
      "cell_type": "code",
      "source": [
        "import numpy as np\n",
        "\n",
        "# 1. Initialize an empty array with size 2x2\n",
        "empty_array = np.empty((2, 2))\n",
        "\n",
        "# 2. Initialize an all-one array with size 4x2\n",
        "ones_array = np.ones((4, 2))\n",
        "\n",
        "# 3. Return a new array of given shape and type, filled with a fill value (example: fill value = 7)\n",
        "filled_array = np.full((3, 3), 7)\n",
        "\n",
        "# 4. Return a new array of zeros with the same shape and type as a given array (using the ones_array as reference)\n",
        "zeros_like_array = np.zeros_like(ones_array)\n",
        "\n",
        "# 5. Return a new array of ones with the same shape and type as a given array (using the ones_array as reference)\n",
        "ones_like_array = np.ones_like(ones_array)\n",
        "\n",
        "# 6. Convert an existing list to a numpy array\n",
        "new_list = [1, 2, 3, 4]\n",
        "new_array = np.array(new_list)\n",
        "\n",
        "# Output all arrays\n",
        "print(\"Empty array 2x2:\\n\", empty_array)\n",
        "print(\"Ones array 4x2:\\n\", ones_array)\n",
        "print(\"Filled array (3x3 filled with 7):\\n\", filled_array)\n",
        "print(\"Zeros-like array:\\n\", zeros_like_array)\n",
        "print(\"Ones-like array:\\n\", ones_like_array)\n",
        "print(\"Converted numpy array from list:\\n\", new_array)\n"
      ],
      "metadata": {
        "colab": {
          "base_uri": "https://localhost:8080/"
        },
        "id": "_oY1hKUdNFHB",
        "outputId": "9ed98130-5af0-45ff-8398-a26a6b622ac3"
      },
      "execution_count": null,
      "outputs": [
        {
          "output_type": "stream",
          "name": "stdout",
          "text": [
            "Empty array 2x2:\n",
            " [[1.86071352e-316 0.00000000e+000]\n",
            " [6.87124013e-310 2.15296654e-316]]\n",
            "Ones array 4x2:\n",
            " [[1. 1.]\n",
            " [1. 1.]\n",
            " [1. 1.]\n",
            " [1. 1.]]\n",
            "Filled array (3x3 filled with 7):\n",
            " [[7 7 7]\n",
            " [7 7 7]\n",
            " [7 7 7]]\n",
            "Zeros-like array:\n",
            " [[0. 0.]\n",
            " [0. 0.]\n",
            " [0. 0.]\n",
            " [0. 0.]]\n",
            "Ones-like array:\n",
            " [[1. 1.]\n",
            " [1. 1.]\n",
            " [1. 1.]\n",
            " [1. 1.]]\n",
            "Converted numpy array from list:\n",
            " [1 2 3 4]\n"
          ]
        }
      ]
    },
    {
      "cell_type": "markdown",
      "source": [
        "Problem - 2: Array Manipulation: Numerical Ranges and Array indexing:"
      ],
      "metadata": {
        "id": "w2HDW39KNwrI"
      }
    },
    {
      "cell_type": "code",
      "source": [
        "import numpy as np\n",
        "\n",
        "# 1. Create an array with values ranging from 10 to 49\n",
        "arr1 = np.arange(10, 50)\n",
        "print(\"Array with values ranging from 10 to 49:\\n\", arr1)\n",
        "\n",
        "# 2. Create a 3X3 matrix with values ranging from 0 to 8\n",
        "arr2 = np.arange(9).reshape(3, 3)\n",
        "print(\"\\n3x3 matrix with values ranging from 0 to 8:\\n\", arr2)\n",
        "\n",
        "# 3. Create a 3X3 identity matrix\n",
        "identity_matrix = np.eye(3)\n",
        "print(\"\\n3x3 Identity Matrix:\\n\", identity_matrix)\n",
        "\n",
        "# 4. Create a random array of size 30 and find the mean\n",
        "random_array = np.random.random(30)\n",
        "mean_value = random_array.mean()\n",
        "print(\"\\nRandom array of size 30:\\n\", random_array)\n",
        "print(\"Mean of the array:\", mean_value)\n",
        "\n",
        "# 5. Create a 10X10 array with random values and find the minimum and maximum values\n",
        "random_10x10 = np.random.random((10, 10))\n",
        "min_value = random_10x10.min()\n",
        "max_value = random_10x10.max()\n",
        "print(\"\\n10x10 random array:\\n\", random_10x10)\n",
        "print(\"Minimum value:\", min_value)\n",
        "print(\"Maximum value:\", max_value)\n",
        "\n",
        "# 6. Create a zero array of size 10 and replace 5th element with 1\n",
        "zero_array = np.zeros(10)\n",
        "zero_array[4] = 1\n",
        "print(\"\\nZero array of size 10 with 5th element replaced with 1:\\n\", zero_array)\n",
        "\n",
        "# 7. Reverse an array arr = [1,2,0,0,4,0]\n",
        "arr3 = np.array([1, 2, 0, 0, 4, 0])\n",
        "reversed_arr = arr3[::-1]\n",
        "print(\"\\nReversed array:\\n\", reversed_arr)\n",
        "\n",
        "# 8. Create a 2D array with 1 on border and 0 inside\n",
        "border_array = np.ones((5, 5))\n",
        "border_array[1:-1, 1:-1] = 0\n",
        "print(\"\\n2D array with 1 on border and 0 inside:\\n\", border_array)\n",
        "\n",
        "# 9. Create an 8x8 matrix and fill it with a checkerboard pattern\n",
        "checkerboard = np.zeros((8, 8))\n",
        "checkerboard[1::2, ::2] = 1\n",
        "checkerboard[::2, 1::2] = 1\n",
        "print(\"\\n8x8 matrix with checkerboard pattern:\\n\", checkerboard)\n"
      ],
      "metadata": {
        "colab": {
          "base_uri": "https://localhost:8080/"
        },
        "id": "bE957faiN2Rn",
        "outputId": "b88a68e2-14c7-4e2c-8691-531d8f72d3e6"
      },
      "execution_count": null,
      "outputs": [
        {
          "output_type": "stream",
          "name": "stdout",
          "text": [
            "Array with values ranging from 10 to 49:\n",
            " [10 11 12 13 14 15 16 17 18 19 20 21 22 23 24 25 26 27 28 29 30 31 32 33\n",
            " 34 35 36 37 38 39 40 41 42 43 44 45 46 47 48 49]\n",
            "\n",
            "3x3 matrix with values ranging from 0 to 8:\n",
            " [[0 1 2]\n",
            " [3 4 5]\n",
            " [6 7 8]]\n",
            "\n",
            "3x3 Identity Matrix:\n",
            " [[1. 0. 0.]\n",
            " [0. 1. 0.]\n",
            " [0. 0. 1.]]\n",
            "\n",
            "Random array of size 30:\n",
            " [0.04090244 0.55000368 0.3562912  0.2407258  0.65525507 0.10465659\n",
            " 0.45826513 0.36435021 0.78214532 0.34459194 0.51865586 0.79259295\n",
            " 0.07230521 0.90664571 0.74561547 0.1727437  0.50232841 0.81844456\n",
            " 0.10310972 0.5384069  0.51756109 0.4933384  0.62288218 0.65732602\n",
            " 0.14581266 0.0105577  0.4201848  0.14884203 0.55684331 0.23287222]\n",
            "Mean of the array: 0.4291418773008593\n",
            "\n",
            "10x10 random array:\n",
            " [[0.42986362 0.79129325 0.44246199 0.47444484 0.46012598 0.18694494\n",
            "  0.47014714 0.09491833 0.63138498 0.15530761]\n",
            " [0.39047267 0.34166933 0.33061278 0.10346412 0.32927783 0.14438228\n",
            "  0.03257958 0.03335459 0.98507474 0.04125611]\n",
            " [0.41081723 0.89264819 0.85980933 0.57469741 0.50465536 0.23700837\n",
            "  0.44882032 0.2805262  0.92108368 0.26659468]\n",
            " [0.00884479 0.67303771 0.82621657 0.04810488 0.45600627 0.86842494\n",
            "  0.04854995 0.13778002 0.80260522 0.60015078]\n",
            " [0.13526751 0.67794031 0.1501329  0.30762633 0.35531632 0.26996891\n",
            "  0.6985558  0.25966021 0.49281404 0.72606971]\n",
            " [0.04296802 0.98485573 0.89033056 0.01929755 0.5390329  0.02904041\n",
            "  0.91024354 0.05858164 0.04561928 0.47859911]\n",
            " [0.0831493  0.87933959 0.68117571 0.30381141 0.45821722 0.22977807\n",
            "  0.90177869 0.80596125 0.12107641 0.44185738]\n",
            " [0.05426719 0.7466635  0.77194154 0.40135781 0.29617489 0.04673021\n",
            "  0.56515986 0.26469387 0.72755577 0.65167702]\n",
            " [0.76884277 0.66486962 0.3827576  0.90383226 0.59536067 0.24263769\n",
            "  0.08904782 0.31609867 0.56536996 0.7022061 ]\n",
            " [0.66904842 0.56758071 0.30659998 0.05563648 0.35749871 0.89765246\n",
            "  0.00993915 0.94512944 0.35162066 0.10668597]]\n",
            "Minimum value: 0.008844785176405412\n",
            "Maximum value: 0.9850747433594729\n",
            "\n",
            "Zero array of size 10 with 5th element replaced with 1:\n",
            " [0. 0. 0. 0. 1. 0. 0. 0. 0. 0.]\n",
            "\n",
            "Reversed array:\n",
            " [0 4 0 0 2 1]\n",
            "\n",
            "2D array with 1 on border and 0 inside:\n",
            " [[1. 1. 1. 1. 1.]\n",
            " [1. 0. 0. 0. 1.]\n",
            " [1. 0. 0. 0. 1.]\n",
            " [1. 0. 0. 0. 1.]\n",
            " [1. 1. 1. 1. 1.]]\n",
            "\n",
            "8x8 matrix with checkerboard pattern:\n",
            " [[0. 1. 0. 1. 0. 1. 0. 1.]\n",
            " [1. 0. 1. 0. 1. 0. 1. 0.]\n",
            " [0. 1. 0. 1. 0. 1. 0. 1.]\n",
            " [1. 0. 1. 0. 1. 0. 1. 0.]\n",
            " [0. 1. 0. 1. 0. 1. 0. 1.]\n",
            " [1. 0. 1. 0. 1. 0. 1. 0.]\n",
            " [0. 1. 0. 1. 0. 1. 0. 1.]\n",
            " [1. 0. 1. 0. 1. 0. 1. 0.]]\n"
          ]
        }
      ]
    },
    {
      "cell_type": "markdown",
      "source": [
        "Problem - 3: Array Operations:"
      ],
      "metadata": {
        "id": "ATYJjWs-UFDb"
      }
    },
    {
      "cell_type": "code",
      "source": [
        "import numpy as np\n",
        "\n",
        "# Define arrays\n",
        "x = np.array([[1, 2], [3, 5]])\n",
        "y = np.array([[5, 6], [7, 8]])\n",
        "v = np.array([9, 10])\n",
        "w = np.array([11, 12])\n",
        "\n",
        "# 1. Add the two arrays\n",
        "add_xy = x + y\n",
        "print(\"Addition of x and y:\\n\", add_xy)\n",
        "\n",
        "# 2. Subtract the two arrays\n",
        "sub_xy = x - y\n",
        "print(\"\\nSubtraction of x and y:\\n\", sub_xy)\n",
        "\n",
        "# 3. Multiply the array with an integer\n",
        "multiplier = 3  # You can change this value\n",
        "mult_x = x * multiplier\n",
        "print(\"\\nMultiplication of x with\", multiplier, \":\\n\", mult_x)\n",
        "\n",
        "# 4. Find the square of each element of the array\n",
        "square_x = np.square(x)\n",
        "print(\"\\nSquare of each element in x:\\n\", square_x)\n",
        "\n",
        "# 5. Find the dot product\n",
        "\n",
        "dot_vw = np.dot(v, w)\n",
        "dot_xv = np.dot(x, v)\n",
        "dot_xy = np.dot(x, y)\n",
        "\n",
        "print(\"\\nDot product of v and w:\", dot_vw)\n",
        "print(\"Dot product of x and v:\\n\", dot_xv)\n",
        "print(\"Dot product of x and y:\\n\", dot_xy)\n",
        "\n",
        "# 6. Concatenate x and y along rows and v and w along columns\n",
        "concat_xy = np.concatenate((x, y), axis=0)\n",
        "concat_vw = np.vstack((v, w))\n",
        "\n",
        "print(\"\\nConcatenation of x and y along rows:\\n\", concat_xy)\n",
        "print(\"Concatenation of v and w along columns:\\n\", concat_vw)\n",
        "\n",
        "# 7. Try concatenating x and v, explain the error if it occurs\n",
        "try:\n",
        "    concat_xv = np.concatenate((x, v), axis=0)\n",
        "    print(\"\\nConcatenation of x and v:\\n\", concat_xv)\n",
        "except ValueError as e:\n",
        "    print(\"\\nError in concatenating x and v:\", e)\n",
        "    print(\"Explanation: x is a 2D array of shape (2,2), while v is a 1D array of shape (2,). To concatenate them, we need to reshape v to match the number of columns in x.\")\n"
      ],
      "metadata": {
        "colab": {
          "base_uri": "https://localhost:8080/"
        },
        "id": "BsXRDQ1TUKH5",
        "outputId": "1a48b2fb-c189-4068-9697-4489e0936b2c"
      },
      "execution_count": null,
      "outputs": [
        {
          "output_type": "stream",
          "name": "stdout",
          "text": [
            "Addition of x and y:\n",
            " [[ 6  8]\n",
            " [10 13]]\n",
            "\n",
            "Subtraction of x and y:\n",
            " [[-4 -4]\n",
            " [-4 -3]]\n",
            "\n",
            "Multiplication of x with 3 :\n",
            " [[ 3  6]\n",
            " [ 9 15]]\n",
            "\n",
            "Square of each element in x:\n",
            " [[ 1  4]\n",
            " [ 9 25]]\n",
            "\n",
            "Dot product of v and w: 219\n",
            "Dot product of x and v:\n",
            " [29 77]\n",
            "Dot product of x and y:\n",
            " [[19 22]\n",
            " [50 58]]\n",
            "\n",
            "Concatenation of x and y along rows:\n",
            " [[1 2]\n",
            " [3 5]\n",
            " [5 6]\n",
            " [7 8]]\n",
            "Concatenation of v and w along columns:\n",
            " [[ 9 10]\n",
            " [11 12]]\n",
            "\n",
            "Error in concatenating x and v: all the input arrays must have same number of dimensions, but the array at index 0 has 2 dimension(s) and the array at index 1 has 1 dimension(s)\n",
            "Explanation: x is a 2D array of shape (2,2), while v is a 1D array of shape (2,). To concatenate them, we need to reshape v to match the number of columns in x.\n"
          ]
        }
      ]
    },
    {
      "cell_type": "markdown",
      "source": [
        "Problem - 4: Matrix Operations:"
      ],
      "metadata": {
        "id": "8aW_NySnUgmY"
      }
    },
    {
      "cell_type": "code",
      "source": [
        "import numpy as np\n",
        "\n",
        "# Define arrays\n",
        "A = np.array([[3, 4], [7, 8]])\n",
        "B = np.array([[5, 3], [2, 1]])\n",
        "\n",
        "# 1. Prove A.A^(-1) = I\n",
        "A_inv = np.linalg.inv(A)  # Find inverse of A\n",
        "identity_matrix = np.dot(A, A_inv)\n",
        "print(\"A * A^(-1) = I:\\n\", np.round(identity_matrix, decimals=5))\n",
        "\n",
        "# 2. Prove AB ≠ BA\n",
        "AB = np.dot(A, B)\n",
        "BA = np.dot(B, A)\n",
        "print(\"\\nAB:\\n\", AB)\n",
        "print(\"\\nBA:\\n\", BA)\n",
        "print(\"\\nAB ≠ BA:\", not np.array_equal(AB, BA))\n",
        "\n",
        "# 3. Prove (AB)^T = B^T * A^T\n",
        "AB_T = np.transpose(AB)\n",
        "BT_AT = np.dot(np.transpose(B), np.transpose(A))\n",
        "print(\"\\n(AB)^T:\\n\", AB_T)\n",
        "print(\"B^T * A^T:\\n\", BT_AT)\n",
        "print(\"\\n(AB)^T = B^T * A^T:\", np.array_equal(AB_T, BT_AT))\n",
        "\n",
        "# Solve system of linear equations using inverse method\n",
        "# Represent the equations in matrix form AX = B\n",
        "A_eq = np.array([[2, -3, 1], [1, -1, 2], [3, 1, -1]])\n",
        "B_eq = np.array([-1, -3, 9])\n",
        "\n",
        "# Solve for X using np.linalg.inv\n",
        "A_inv_eq = np.linalg.inv(A_eq)\n",
        "X = np.dot(A_inv_eq, B_eq)\n",
        "print(\"\\nSolution for AX = B using inverse method:\", X)\n"
      ],
      "metadata": {
        "colab": {
          "base_uri": "https://localhost:8080/"
        },
        "id": "bGkMMN_0Uj-i",
        "outputId": "1c8eca5c-144c-4999-e7d1-ab42ff99af0a"
      },
      "execution_count": null,
      "outputs": [
        {
          "output_type": "stream",
          "name": "stdout",
          "text": [
            "A * A^(-1) = I:\n",
            " [[1. 0.]\n",
            " [0. 1.]]\n",
            "\n",
            "AB:\n",
            " [[23 13]\n",
            " [51 29]]\n",
            "\n",
            "BA:\n",
            " [[36 44]\n",
            " [13 16]]\n",
            "\n",
            "AB ≠ BA: True\n",
            "\n",
            "(AB)^T:\n",
            " [[23 51]\n",
            " [13 29]]\n",
            "B^T * A^T:\n",
            " [[23 51]\n",
            " [13 29]]\n",
            "\n",
            "(AB)^T = B^T * A^T: True\n",
            "\n",
            "Solution for AX = B using inverse method: [ 2.  1. -2.]\n"
          ]
        }
      ]
    },
    {
      "cell_type": "markdown",
      "source": [
        "10.2 Experiment: How Fast is Numpy?\n",
        "\n",
        "1. Element-wise Addition:"
      ],
      "metadata": {
        "id": "ArXOrsJeVJBI"
      }
    },
    {
      "cell_type": "code",
      "source": [
        "import numpy as np\n",
        "import time\n",
        "\n",
        "# Define lists of size 1,000,000\n",
        "size = 1000000\n",
        "list1 = list(range(size))\n",
        "list2 = list(range(size))\n",
        "\n",
        "# Measure time for element-wise addition using Python lists\n",
        "start_time = time.time()\n",
        "list_sum = [list1[i] + list2[i] for i in range(size)]\n",
        "end_time = time.time()\n",
        "print(\"Time taken for element-wise addition using Python lists:\", end_time - start_time, \"seconds\")\n",
        "\n",
        "# Define NumPy arrays\n",
        "array1 = np.array(list1)\n",
        "array2 = np.array(list2)\n",
        "\n",
        "# Measure time for element-wise addition using NumPy arrays\n",
        "start_time = time.time()\n",
        "numpy_sum = array1 + array2\n",
        "end_time = time.time()\n",
        "print(\"Time taken for element-wise addition using NumPy arrays:\", end_time - start_time, \"seconds\")\n"
      ],
      "metadata": {
        "colab": {
          "base_uri": "https://localhost:8080/"
        },
        "id": "MIBBDXPrVZvv",
        "outputId": "cf42f22c-8b13-422c-8650-d35777a6635e"
      },
      "execution_count": null,
      "outputs": [
        {
          "output_type": "stream",
          "name": "stdout",
          "text": [
            "Time taken for element-wise addition using Python lists: 0.22178149223327637 seconds\n",
            "Time taken for element-wise addition using NumPy arrays: 0.0029103755950927734 seconds\n"
          ]
        }
      ]
    },
    {
      "cell_type": "markdown",
      "source": [
        "2. Element-wise Multiplication"
      ],
      "metadata": {
        "id": "sLlp8EKiWEFu"
      }
    },
    {
      "cell_type": "code",
      "source": [
        "import numpy as np\n",
        "import time\n",
        "\n",
        "# Define lists of size 1,000,000\n",
        "size = 1000000\n",
        "list1 = list(range(size))\n",
        "list2 = list(range(size))\n",
        "\n",
        "# Measure time for element-wise addition using Python lists\n",
        "start_time = time.time()\n",
        "list_sum = [list1[i] + list2[i] for i in range(size)]\n",
        "end_time = time.time()\n",
        "print(\"Time taken for element-wise addition using Python lists:\", end_time - start_time, \"seconds\")\n",
        "\n",
        "# Define NumPy arrays\n",
        "array1 = np.array(list1)\n",
        "array2 = np.array(list2)\n",
        "\n",
        "# Measure time for element-wise addition using NumPy arrays\n",
        "start_time = time.time()\n",
        "numpy_sum = array1 + array2\n",
        "end_time = time.time()\n",
        "print(\"Time taken for element-wise addition using NumPy arrays:\", end_time - start_time, \"seconds\")\n",
        "\n",
        "# Measure time for element-wise multiplication using Python lists\n",
        "start_time = time.time()\n",
        "list_product = [list1[i] * list2[i] for i in range(size)]\n",
        "end_time = time.time()\n",
        "print(\"Time taken for element-wise multiplication using Python lists:\", end_time - start_time, \"seconds\")\n",
        "\n",
        "# Measure time for element-wise multiplication using NumPy arrays\n",
        "start_time = time.time()\n",
        "numpy_product = array1 * array2\n",
        "end_time = time.time()\n",
        "print(\"Time taken for element-wise multiplication using NumPy arrays:\", end_time - start_time, \"seconds\")\n"
      ],
      "metadata": {
        "colab": {
          "base_uri": "https://localhost:8080/"
        },
        "id": "ZQovujuCWG7o",
        "outputId": "e77d744c-2c07-4316-daca-144a7ce9f685"
      },
      "execution_count": null,
      "outputs": [
        {
          "output_type": "stream",
          "name": "stdout",
          "text": [
            "Time taken for element-wise addition using Python lists: 0.05084633827209473 seconds\n",
            "Time taken for element-wise addition using NumPy arrays: 0.005177736282348633 seconds\n",
            "Time taken for element-wise multiplication using Python lists: 0.10908842086791992 seconds\n",
            "Time taken for element-wise multiplication using NumPy arrays: 0.0027904510498046875 seconds\n"
          ]
        }
      ]
    },
    {
      "cell_type": "markdown",
      "source": [
        "3. Dot Product"
      ],
      "metadata": {
        "id": "whrw56PdWeT0"
      }
    },
    {
      "cell_type": "code",
      "source": [
        "import numpy as np\n",
        "import time\n",
        "\n",
        "# Define lists of size 1,000,000\n",
        "size = 1000000\n",
        "list1 = list(range(size))\n",
        "list2 = list(range(size))\n",
        "\n",
        "# Measure time for element-wise addition using Python lists\n",
        "start_time = time.time()\n",
        "list_sum = [list1[i] + list2[i] for i in range(size)]\n",
        "end_time = time.time()\n",
        "print(\"Time taken for element-wise addition using Python lists:\", end_time - start_time, \"seconds\")\n",
        "\n",
        "# Define NumPy arrays\n",
        "array1 = np.array(list1)\n",
        "array2 = np.array(list2)\n",
        "\n",
        "# Measure time for element-wise addition using NumPy arrays\n",
        "start_time = time.time()\n",
        "numpy_sum = array1 + array2\n",
        "end_time = time.time()\n",
        "print(\"Time taken for element-wise addition using NumPy arrays:\", end_time - start_time, \"seconds\")\n",
        "\n",
        "# Measure time for element-wise multiplication using Python lists\n",
        "start_time = time.time()\n",
        "list_product = [list1[i] * list2[i] for i in range(size)]\n",
        "end_time = time.time()\n",
        "print(\"Time taken for element-wise multiplication using Python lists:\", end_time - start_time, \"seconds\")\n",
        "\n",
        "# Measure time for element-wise multiplication using NumPy arrays\n",
        "start_time = time.time()\n",
        "numpy_product = array1 * array2\n",
        "end_time = time.time()\n",
        "print(\"Time taken for element-wise multiplication using NumPy arrays:\", end_time - start_time, \"seconds\")\n",
        "\n",
        "# Measure time for dot product using Python lists\n",
        "start_time = time.time()\n",
        "dot_product_list = sum(list1[i] * list2[i] for i in range(size))\n",
        "end_time = time.time()\n",
        "print(\"Time taken for dot product using Python lists:\", end_time - start_time, \"seconds\")\n",
        "\n",
        "# Measure time for dot product using NumPy arrays\n",
        "start_time = time.time()\n",
        "dot_product_numpy = np.dot(array1, array2)\n",
        "end_time = time.time()\n",
        "print(\"Time taken for dot product using NumPy arrays:\", end_time - start_time, \"seconds\")\n",
        "\n"
      ],
      "metadata": {
        "colab": {
          "base_uri": "https://localhost:8080/"
        },
        "id": "P84IAkiNWiFo",
        "outputId": "03217647-c7de-4e59-b00f-290c21684a5d"
      },
      "execution_count": null,
      "outputs": [
        {
          "output_type": "stream",
          "name": "stdout",
          "text": [
            "Time taken for element-wise addition using Python lists: 0.04731941223144531 seconds\n",
            "Time taken for element-wise addition using NumPy arrays: 0.0024504661560058594 seconds\n",
            "Time taken for element-wise multiplication using Python lists: 0.1107790470123291 seconds\n",
            "Time taken for element-wise multiplication using NumPy arrays: 0.0014882087707519531 seconds\n",
            "Time taken for dot product using Python lists: 0.0597994327545166 seconds\n",
            "Time taken for dot product using NumPy arrays: 0.0019428730010986328 seconds\n"
          ]
        }
      ]
    },
    {
      "cell_type": "markdown",
      "source": [
        "4. Matrix Multiplication"
      ],
      "metadata": {
        "id": "CrS4rgevXA1z"
      }
    },
    {
      "cell_type": "code",
      "source": [
        "import numpy as np\n",
        "import time\n",
        "\n",
        "# Define lists of size 1,000,000\n",
        "size = 1000000\n",
        "list1 = list(range(size))\n",
        "list2 = list(range(size))\n",
        "\n",
        "# Measure time for element-wise addition using Python lists\n",
        "start_time = time.time()\n",
        "list_sum = [list1[i] + list2[i] for i in range(size)]\n",
        "end_time = time.time()\n",
        "print(\"Time taken for element-wise addition using Python lists:\", end_time - start_time, \"seconds\")\n",
        "\n",
        "# Define NumPy arrays\n",
        "array1 = np.array(list1)\n",
        "array2 = np.array(list2)\n",
        "\n",
        "# Measure time for element-wise addition using NumPy arrays\n",
        "start_time = time.time()\n",
        "numpy_sum = array1 + array2\n",
        "end_time = time.time()\n",
        "print(\"Time taken for element-wise addition using NumPy arrays:\", end_time - start_time, \"seconds\")\n",
        "\n",
        "# Measure time for element-wise multiplication using Python lists\n",
        "start_time = time.time()\n",
        "list_product = [list1[i] * list2[i] for i in range(size)]\n",
        "end_time = time.time()\n",
        "print(\"Time taken for element-wise multiplication using Python lists:\", end_time - start_time, \"seconds\")\n",
        "\n",
        "# Measure time for element-wise multiplication using NumPy arrays\n",
        "start_time = time.time()\n",
        "numpy_product = array1 * array2\n",
        "end_time = time.time()\n",
        "print(\"Time taken for element-wise multiplication using NumPy arrays:\", end_time - start_time, \"seconds\")\n",
        "\n",
        "# Measure time for dot product using Python lists\n",
        "start_time = time.time()\n",
        "dot_product_list = sum(list1[i] * list2[i] for i in range(size))\n",
        "end_time = time.time()\n",
        "print(\"Time taken for dot product using Python lists:\", end_time - start_time, \"seconds\")\n",
        "\n",
        "# Measure time for dot product using NumPy arrays\n",
        "start_time = time.time()\n",
        "dot_product_numpy = np.dot(array1, array2)\n",
        "end_time = time.time()\n",
        "print(\"Time taken for dot product using NumPy arrays:\", end_time - start_time, \"seconds\")\n",
        "\n",
        "# Define matrices of size 1000x1000\n",
        "matrix_size = 1000\n",
        "matrix1 = [[i * j for j in range(matrix_size)] for i in range(matrix_size)]\n",
        "matrix2 = [[j * i for j in range(matrix_size)] for i in range(matrix_size)]\n",
        "\n",
        "# Measure time for matrix multiplication using Python lists\n",
        "start_time = time.time()\n",
        "matrix_result = [[sum(matrix1[i][k] * matrix2[k][j] for k in range(matrix_size)) for j in range(matrix_size)] for i in range(matrix_size)]\n",
        "end_time = time.time()\n",
        "print(\"Time taken for matrix multiplication using Python lists:\", end_time - start_time, \"seconds\")\n",
        "\n",
        "# Define NumPy matrices\n",
        "np_matrix1 = np.array(matrix1)\n",
        "p_np_matrix2 = np.array(matrix2)\n",
        "\n",
        "# Measure time for matrix multiplication using NumPy arrays\n",
        "start_time = time.time()\n",
        "np_matrix_result = np.dot(np_matrix1, p_np_matrix2)\n",
        "end_time = time.time()\n",
        "print(\"Time taken for matrix multiplication using NumPy arrays:\", end_time - start_time, \"seconds\")\n"
      ],
      "metadata": {
        "colab": {
          "base_uri": "https://localhost:8080/"
        },
        "id": "wL9F_H8NXGPd",
        "outputId": "a6ac47aa-bf5f-4db4-f0a1-05b5a821aac4"
      },
      "execution_count": null,
      "outputs": [
        {
          "output_type": "stream",
          "name": "stdout",
          "text": [
            "Time taken for element-wise addition using Python lists: 0.05285978317260742 seconds\n",
            "Time taken for element-wise addition using NumPy arrays: 0.001680135726928711 seconds\n",
            "Time taken for element-wise multiplication using Python lists: 0.04939389228820801 seconds\n",
            "Time taken for element-wise multiplication using NumPy arrays: 0.0018703937530517578 seconds\n",
            "Time taken for dot product using Python lists: 0.05871224403381348 seconds\n",
            "Time taken for dot product using NumPy arrays: 0.0010302066802978516 seconds\n",
            "Time taken for matrix multiplication using Python lists: 102.06483387947083 seconds\n",
            "Time taken for matrix multiplication using NumPy arrays: 0.8354384899139404 seconds\n"
          ]
        }
      ]
    }
  ]
}